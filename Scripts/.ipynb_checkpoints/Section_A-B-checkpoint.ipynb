{
 "cells": [
  {
   "cell_type": "code",
   "execution_count": 2,
   "metadata": {},
   "outputs": [],
   "source": [
    "from pyspark.sql import SparkSession\n",
    "\n",
    "spark_session = SparkSession\\\n",
    "        .builder\\\n",
    "        .master(\"local[1]\") \\\n",
    "        .appName(\"Kolonskopi\")\\\n",
    "        .config(\"spark.dynamicAllocation.enabled\", True)\\\n",
    "        .config(\"spark.shuffle.service.enabled\", True)\\\n",
    "        .config(\"spark.dynamicAllocation.executorIdleTimeout\",\"30s\")\\\n",
    "        .config(\"spark.executor.cores\",4)\\\n",
    "        .getOrCreate()\n",
    "\n",
    "# Old API (RDD)\n",
    "spark_context = spark_session.sparkContext"
   ]
  },
  {
   "cell_type": "markdown",
   "metadata": {},
   "source": [
    "### Question A1"
   ]
  },
  {
   "cell_type": "code",
   "execution_count": 3,
   "metadata": {
    "scrolled": false
   },
   "outputs": [
    {
     "name": "stdout",
     "output_type": "stream",
     "text": [
      "Number of lines in English document 1862234\n",
      "\n",
      "Number of lines in Swedish document 1862234\n",
      "\n",
      "There are equal number of lines in the two documents\n",
      "\n",
      "Number of partitions in files:\n",
      " EN:\t2\n",
      " SV:\t3\n"
     ]
    }
   ],
   "source": [
    "en_tF = spark_context.textFile('hdfs://192.168.1.153:9000/europarl/europarl-v7.sv-en.en')\n",
    "\n",
    "en_lc = en_tF.count()\n",
    "print(f\"Number of lines in English document {en_lc}\\n\")\n",
    "\n",
    "sv_tF = spark_context.textFile('hdfs://192.168.1.153:9000/europarl/europarl-v7.sv-en.sv')\n",
    "\n",
    "sv_lc = sv_tF.count()\n",
    "print(f\"Number of lines in Swedish document {sv_lc}\\n\")\n",
    "\n",
    "if en_lc == sv_lc:\n",
    "    print(f\"There are equal number of lines in the two documents\\n\")\n",
    "\n",
    "print(f\"Number of partitions in files:\\n EN:\\t{en_tF.getNumPartitions()}\\n SV:\\t{sv_tF.getNumPartitions()}\")\n",
    "\n"
   ]
  },
  {
   "cell_type": "markdown",
   "metadata": {},
   "source": [
    "### Question A2 "
   ]
  },
  {
   "cell_type": "code",
   "execution_count": 4,
   "metadata": {},
   "outputs": [
    {
     "name": "stdout",
     "output_type": "stream",
     "text": [
      "The first 10 objects in English and then Swedish file:\n",
      "\n",
      "[['resumption', 'of', 'the', 'session'], ['i', 'declare', 'resumed', 'the', 'session', 'of', 'the', 'european', 'parliament', 'adjourned', 'on', 'friday', '17', 'december', '1999,', 'and', 'i', 'would', 'like', 'once', 'again', 'to', 'wish', 'you', 'a', 'happy', 'new', 'year', 'in', 'the', 'hope', 'that', 'you', 'enjoyed', 'a', 'pleasant', 'festive', 'period.'], ['although,', 'as', 'you', 'will', 'have', 'seen,', 'the', 'dreaded', \"'millennium\", \"bug'\", 'failed', 'to', 'materialise,', 'still', 'the', 'people', 'in', 'a', 'number', 'of', 'countries', 'suffered', 'a', 'series', 'of', 'natural', 'disasters', 'that', 'truly', 'were', 'dreadful.'], ['you', 'have', 'requested', 'a', 'debate', 'on', 'this', 'subject', 'in', 'the', 'course', 'of', 'the', 'next', 'few', 'days,', 'during', 'this', 'part-session.'], ['in', 'the', 'meantime,', 'i', 'should', 'like', 'to', 'observe', 'a', \"minute'\", 's', 'silence,', 'as', 'a', 'number', 'of', 'members', 'have', 'requested,', 'on', 'behalf', 'of', 'all', 'the', 'victims', 'concerned,', 'particularly', 'those', 'of', 'the', 'terrible', 'storms,', 'in', 'the', 'various', 'countries', 'of', 'the', 'european', 'union.'], ['please', 'rise,', 'then,', 'for', 'this', \"minute'\", 's', 'silence.'], ['(the', 'house', 'rose', 'and', 'observed', 'a', \"minute'\", 's', 'silence)'], ['madam', 'president,', 'on', 'a', 'point', 'of', 'order.'], ['you', 'will', 'be', 'aware', 'from', 'the', 'press', 'and', 'television', 'that', 'there', 'have', 'been', 'a', 'number', 'of', 'bomb', 'explosions', 'and', 'killings', 'in', 'sri', 'lanka.'], ['one', 'of', 'the', 'people', 'assassinated', 'very', 'recently', 'in', 'sri', 'lanka', 'was', 'mr', 'kumar', 'ponnambalam,', 'who', 'had', 'visited', 'the', 'european', 'parliament', 'just', 'a', 'few', 'months', 'ago.']]\n",
      "[['återupptagande', 'av', 'sessionen'], ['jag', 'förklarar', 'europaparlamentets', 'session', 'återupptagen', 'efter', 'avbrottet', 'den', '17', 'december.', 'jag', 'vill', 'på', 'nytt', 'önska', 'er', 'ett', 'gott', 'nytt', 'år', 'och', 'jag', 'hoppas', 'att', 'ni', 'haft', 'en', 'trevlig', 'semester.'], ['som', 'ni', 'kunnat', 'konstatera', 'ägde', '\"den', 'stora', 'år', '2000-buggen\"', 'aldrig', 'rum.', 'däremot', 'har', 'invånarna', 'i', 'ett', 'antal', 'av', 'våra', 'medlemsländer', 'drabbats', 'av', 'naturkatastrofer', 'som', 'verkligen', 'varit', 'förskräckliga.'], ['ni', 'har', 'begärt', 'en', 'debatt', 'i', 'ämnet', 'under', 'sammanträdesperiodens', 'kommande', 'dagar.'], ['till', 'dess', 'vill', 'jag', 'att', 'vi,', 'som', 'ett', 'antal', 'kolleger', 'begärt,', 'håller', 'en', 'tyst', 'minut', 'för', 'offren', 'för', 'bl.a.', 'stormarna', 'i', 'de', 'länder', 'i', 'europeiska', 'unionen', 'som', 'drabbats.'], ['jag', 'ber', 'er', 'resa', 'er', 'för', 'en', 'tyst', 'minut.'], ['(parlamentet', 'höll', 'en', 'tyst', 'minut.)'], ['fru', 'talman!', 'det', 'gäller', 'en', 'ordningsfråga.'], ['ni', 'känner', 'till', 'från', 'media', 'att', 'det', 'skett', 'en', 'rad', 'bombexplosioner', 'och', 'mord', 'i', 'sri', 'lanka.'], ['en', 'av', 'de', 'personer', 'som', 'mycket', 'nyligen', 'mördades', 'i', 'sri', 'lanka', 'var', 'kumar', 'ponnambalam,', 'som', 'besökte', 'europaparlamentet', 'för', 'bara', 'några', 'månader', 'sedan.']]\n",
      "After pre-processing the files have the same number of lines\n"
     ]
    }
   ],
   "source": [
    "en_low_tF = en_tF.map(lambda line: line.lower().split(' ')) #split lines on spaces \n",
    "sv_low_tF = sv_tF.map(lambda line: line.lower().split(' '))\n",
    "\n",
    "print(f\"The first 10 objects in English and then Swedish file:\\n\")\n",
    "print(en_low_tF.take(10))\n",
    "print(sv_low_tF.take(10))\n",
    "\n",
    "en_low_lc = en_low_tF.count()\n",
    "sv_low_lc = sv_low_tF.count()\n",
    "\n",
    "if en_low_lc == sv_low_lc:\n",
    "    print(\"After pre-processing the files have the same number of lines\")"
   ]
  },
  {
   "cell_type": "markdown",
   "metadata": {},
   "source": [
    "### Question A3"
   ]
  },
  {
   "cell_type": "code",
   "execution_count": 73,
   "metadata": {},
   "outputs": [
    {
     "name": "stdout",
     "output_type": "stream",
     "text": [
      "Most commonly used words in English carpus, and their count:\n",
      " [('the', 3498375), ('of', 1659758), ('to', 1539760), ('and', 1288401), ('in', 1085993), ('that', 797516), ('a', 773522), ('is', 758050), ('for', 534242), ('we', 522849)]\n",
      "Most commonly used words in Swedish carpus, and their count:\n",
      " [('att', 1706293), ('och', 1344830), ('i', 1050774), ('det', 924866), ('som', 913276), ('för', 908680), ('av', 738068), ('är', 694381), ('en', 620310), ('vi', 539797)]\n",
      "\n"
     ]
    }
   ],
   "source": [
    "en_words = en_low_tF.flatMap(lambda line: line)\n",
    "en_word_counts = en_words.map(lambda word: (word, 1)).reduceByKey(lambda x, y: x+y).sortBy(lambda word_count: -word_count[1]).take(10)\n",
    "\n",
    "sv_words = sv_low_tF.flatMap(lambda line: line)\n",
    "sv_word_counts = sv_words\\\n",
    "    .map(lambda word: (word, 1))\\ #tuplify word with count\n",
    "    .reduceByKey(lambda x, y: x+y)\\ #aggregate word counts\n",
    "    .sortBy(lambda word_count: -word_count[1])\\ #Sort by descending occurances.\n",
    "    .take(10)\n",
    "\n",
    "\n",
    "print(f\"Most commonly used words in English carpus, and their count:\\n {en_word_counts}\\n\\n\"\n",
    "    f\"Most commonly used words in Swedish carpus, and their count:\\n {sv_word_counts}\\n\\n\"\n",
    "    f\"Seems reasonable that articles, conjunctions, determiners and prepositions are most ocuring in texts.\"\n",
    "     )"
   ]
  },
  {
   "cell_type": "markdown",
   "metadata": {},
   "source": [
    "### Question A4"
   ]
  },
  {
   "cell_type": "code",
   "execution_count": null,
   "metadata": {},
   "outputs": [],
   "source": [
    "indx_en_low_tF = en_low_tF\\\n",
    "    .zipWithIndex()\\\n",
    "    .map(lambda line: (line[1], line[0])) #index lines, swap key and value\n",
    "    \n",
    "indx_sv_low_tF = sv_low_tF\\\n",
    "    .zipWithIndex()\\\n",
    "    .map(lambda line: (line[1], line[0]))\n",
    "\n",
    "#Inner join keys, filter for equal length lines, randomly selected number of words to start with \n",
    "j_sv_en_indx = indx_en_low_tF\\\n",
    "    .join(indx_sv_low_tF)\\\n",
    "    .filter(lambda line: len(line[1][0]) == len(line[1][1]))\\\n",
    "    .filter(lambda line: len(line[1][0]) < 5)\\\n",
    "    .map(lambda words: (zip(words[1][0], words[1][1]), 1))\\\n",
    "    .reduce(lambda x, y: x+y)\n"
   ]
  },
  {
   "cell_type": "code",
   "execution_count": 139,
   "metadata": {},
   "outputs": [
    {
     "data": {
      "text/plain": [
       "[(63065, (['vote'], ['omröstning'])),\n",
       " (225205, (['the', 'balkan', 'crisis.'], ['krisen', 'på', 'balkan.'])),\n",
       " (663330, (['that', 'is', 'absurd.'], ['det', 'är', 'orimligt.'])),\n",
       " (812935, (['childcare', '(debate)'], ['barnomsorg', '(debatt)'])),\n",
       " (836445, (['via', 'baltica', '(debate)'], ['via', 'baltica', '(debatt)'])),\n",
       " (856635, (['(applause)'], ['(applåder)'])),\n",
       " (20160, (['we', 'welcome', 'that!'], ['den', 'är', 'välkommen!'])),\n",
       " (174590, ([''], ['.'])),\n",
       " (277570,\n",
       "  (['are', 'there', 'any', 'comments?'],\n",
       "   ['finns', 'det', 'några', 'synpunkter?'])),\n",
       " (40160, (['zimbabwe'], ['zimbabwe']))]"
      ]
     },
     "execution_count": 139,
     "metadata": {},
     "output_type": "execute_result"
    }
   ],
   "source": [
    "j_sv_en_indx.take(10)"
   ]
  },
  {
   "cell_type": "code",
   "execution_count": null,
   "metadata": {},
   "outputs": [],
   "source": [
    "spark_context.stop()"
   ]
  }
 ],
 "metadata": {
  "kernelspec": {
   "display_name": "Python 3",
   "language": "python",
   "name": "python3"
  },
  "language_info": {
   "codemirror_mode": {
    "name": "ipython",
    "version": 3
   },
   "file_extension": ".py",
   "mimetype": "text/x-python",
   "name": "python",
   "nbconvert_exporter": "python",
   "pygments_lexer": "ipython3",
   "version": "3.6.7"
  }
 },
 "nbformat": 4,
 "nbformat_minor": 2
}
